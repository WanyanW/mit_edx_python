{
 "cells": [
  {
   "cell_type": "code",
   "execution_count": 1,
   "metadata": {},
   "outputs": [],
   "source": [
    "# this is the Palindrome - using the string slicing"
   ]
  },
  {
   "cell_type": "raw",
   "metadata": {},
   "source": [
    "word = input(\"Please enter a word or phrase: \")\n",
    "if word.lower() == word[::-1].lower():\n",
    "  print(\"That is a palindrome.\")\n",
    "else:\n",
    "  print(\"That is not a palindrome.\")"
   ]
  },
  {
   "cell_type": "code",
   "execution_count": 3,
   "metadata": {},
   "outputs": [],
   "source": [
    "# below is to use recursive function"
   ]
  },
  {
   "cell_type": "code",
   "execution_count": 4,
   "metadata": {},
   "outputs": [
    {
     "name": "stdout",
     "output_type": "stream",
     "text": [
      "Enter a word:dfds\n",
      "Palindrome: False\n"
     ]
    }
   ],
   "source": [
    "# A word is a palindrome if it has fewer than two\n",
    "# letters, or if the first and last letters are the\n",
    "# same and the middle bit is a palidrome\n",
    "def isPalindrome(text):\n",
    "  # a word with one or no letters is a palindrome\n",
    "  if len(text) < 2:\n",
    "    return True\n",
    "  # are the first and last letters the same?\n",
    "  if text[0] != text[-1]:\n",
    "    return False\n",
    "  else:\n",
    "    # is the middle bit of the word a palidrome?\n",
    "    return isPalindrome(text[1:-1])\n",
    "\n",
    "print(\"Palindrome:\",isPalindrome(input(\"Enter a word:\")))"
   ]
  },
  {
   "cell_type": "code",
   "execution_count": null,
   "metadata": {},
   "outputs": [],
   "source": []
  },
  {
   "cell_type": "code",
   "execution_count": null,
   "metadata": {},
   "outputs": [],
   "source": []
  }
 ],
 "metadata": {
  "kernelspec": {
   "display_name": "Python 3",
   "language": "python",
   "name": "python3"
  },
  "language_info": {
   "codemirror_mode": {
    "name": "ipython",
    "version": 3
   },
   "file_extension": ".py",
   "mimetype": "text/x-python",
   "name": "python",
   "nbconvert_exporter": "python",
   "pygments_lexer": "ipython3",
   "version": "3.7.3"
  }
 },
 "nbformat": 4,
 "nbformat_minor": 2
}
